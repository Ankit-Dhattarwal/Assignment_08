{
 "cells": [
  {
   "cell_type": "markdown",
   "id": "fb1139a8-f703-4759-9c13-df46b26a6b63",
   "metadata": {},
   "source": [
    "### Q.1> What is Abstraction in OOps? Explain with an example."
   ]
  },
  {
   "cell_type": "markdown",
   "id": "ed76bd1e-8d5e-4bfc-9755-3c5a186f8bcf",
   "metadata": {},
   "source": [
    "#### ANSWER"
   ]
  },
  {
   "cell_type": "markdown",
   "id": "df4eca88-b16a-42b6-bd67-58625d1286bd",
   "metadata": {},
   "source": [
    "##### Abstraction in Object-Oriented Programming (OOP) is the process of hiding complex implementation details and presenting only the essential features of an object or a system to the user. It is one of the fundamental concepts of OOP, along with encapsulation, inheritance, and polymorphism."
   ]
  },
  {
   "cell_type": "code",
   "execution_count": 1,
   "id": "2589d890-95b1-4df1-a6d6-f4ce80ddbdfe",
   "metadata": {},
   "outputs": [
    {
     "name": "stdout",
     "output_type": "stream",
     "text": [
      "Area of circle: 78.5\n",
      "Perimeter of circle: 31.400000000000002\n",
      "Area of square: 16\n",
      "Perimeter of square: 16\n"
     ]
    }
   ],
   "source": [
    "from abc import ABC, abstractmethod\n",
    "\n",
    "class Shape(ABC):\n",
    "    @abstractmethod\n",
    "    def area(self):\n",
    "        pass\n",
    "    \n",
    "    @abstractmethod\n",
    "    def perimeter(self):\n",
    "        pass\n",
    "    \n",
    "class Circle(Shape):\n",
    "    def __init__(self, radius):\n",
    "        self.radius = radius\n",
    "    \n",
    "    def area(self):\n",
    "        return 3.14 * self.radius ** 2\n",
    "    \n",
    "    def perimeter(self):\n",
    "        return 2 * 3.14 * self.radius\n",
    "    \n",
    "class Square(Shape):\n",
    "    def __init__(self, side):\n",
    "        self.side = side\n",
    "    \n",
    "    def area(self):\n",
    "        return self.side ** 2\n",
    "    \n",
    "    def perimeter(self):\n",
    "        return 4 * self.side\n",
    "    \n",
    "circle = Circle(5)\n",
    "print(\"Area of circle:\", circle.area())\n",
    "print(\"Perimeter of circle:\", circle.perimeter())\n",
    "\n",
    "square = Square(4)\n",
    "print(\"Area of square:\", square.area())\n",
    "print(\"Perimeter of square:\", square.perimeter())\n"
   ]
  },
  {
   "cell_type": "markdown",
   "id": "e7f927f9-9b74-4d04-9ae9-323dbd2cc9c7",
   "metadata": {},
   "source": [
    "### Q.2> Differentiate between Abstraction and Encapsulation. Explain with an example."
   ]
  },
  {
   "cell_type": "markdown",
   "id": "52ab95ee-d1c2-4039-9d88-797b7c2cfd26",
   "metadata": {},
   "source": [
    "#### ANSWER"
   ]
  },
  {
   "cell_type": "markdown",
   "id": "2d678a45-1b33-4b9c-ba8d-f71f7e8e71c0",
   "metadata": {},
   "source": [
    "##### Abstraction and Encapsulation are two important concepts in object-oriented programming (OOP), but they serve different purposes.\n",
    "\n",
    "##### Encapsulation is the process of hiding the internal details of an object and protecting its state from external interference. It is achieved by grouping related data and functions into a single unit, called a class, and providing controlled access to its members through methods or properties. Encapsulation ensures that the object's internal state can be accessed and modified only by its own methods and not by external entities.\n",
    "\n",
    "##### Abstraction, on the other hand, is the process of highlighting the essential features of an object while hiding the unnecessary details. It provides a simplified view of the object or system, making it easier to understand and use. Abstraction is achieved by defining abstract classes or interfaces that provide a blueprint for implementing concrete classes."
   ]
  },
  {
   "cell_type": "code",
   "execution_count": 2,
   "id": "f21c0e9c-8b4f-40d3-b83c-c0276a1605d0",
   "metadata": {},
   "outputs": [],
   "source": [
    "from abc import ABC, abstractmethod\n",
    "\n",
    "class Bank(ABC):\n",
    "    @abstractmethod\n",
    "    def deposit(self, amount):\n",
    "        pass\n",
    "    \n",
    "    @abstractmethod\n",
    "    def withdraw(self, amount):\n",
    "        pass\n",
    "    \n",
    "    @abstractmethod\n",
    "    def get_balance(self):\n",
    "        pass\n",
    "\n",
    "class SavingsAccount(Bank):\n",
    "    def __init__(self, account_number, balance):\n",
    "        self._account_number = account_number\n",
    "        self._balance = balance\n",
    "    \n",
    "    def deposit(self, amount):\n",
    "        self._balance += amount\n",
    "    \n",
    "    def withdraw(self, amount):\n",
    "        if amount > self._balance:\n",
    "            raise ValueError(\"Insufficient balance\")\n",
    "        self._balance -= amount\n",
    "    \n",
    "    def get_balance(self):\n",
    "        return self._balance\n"
   ]
  },
  {
   "cell_type": "markdown",
   "id": "0838782e-45e5-45cb-96db-848484172574",
   "metadata": {},
   "source": [
    "### Q.3> What is abc module in python? Why is it used?"
   ]
  },
  {
   "cell_type": "markdown",
   "id": "a80567d5-8042-494f-85d1-f3a548bce459",
   "metadata": {},
   "source": [
    "#### ANSWER"
   ]
  },
  {
   "cell_type": "markdown",
   "id": "a4a6dc09-450f-421f-9714-53fa833502d7",
   "metadata": {},
   "source": [
    "##### The abc module in Python stands for \"Abstract Base Classes\". It is a module that provides infrastructure for defining abstract base classes (ABCs) in Python. An abstract base class is a class that cannot be instantiated directly, but can be used as a base class for other classes."
   ]
  },
  {
   "cell_type": "markdown",
   "id": "81194b9f-6845-4ea3-9e35-58320ab39e49",
   "metadata": {},
   "source": [
    "##### some of the key uses of the abc module in Python:\n",
    "\n",
    "##### To define abstract base classes: The abc module is primarily used to define abstract base classes in Python. An abstract base class is a class that defines a set of methods that its subclasses must implement. This allows us to define a common interface that other classes can inherit from.\n",
    "\n",
    "##### To enforce interface rules: By defining an abstract base class, we can enforce certain rules that any class that inherits from it must follow. For example, an abstract base class can ensure that all its subclasses have a particular method or set of methods.\n",
    "\n",
    "##### To provide a common API: By defining an abstract base class, we can provide a common API that all its subclasses can use. This can make it easier to work with a set of related classes."
   ]
  },
  {
   "cell_type": "markdown",
   "id": "fe8c527d-4eb9-414b-8bbc-6179435f3998",
   "metadata": {},
   "source": [
    "### Q.4> How can we achieve data abstraction?"
   ]
  },
  {
   "cell_type": "markdown",
   "id": "1166c356-e5f8-491f-a3de-73ac275935af",
   "metadata": {},
   "source": [
    "#### ANSWER"
   ]
  },
  {
   "cell_type": "markdown",
   "id": "5b316afc-40d8-4a14-bd16-65339b01ddce",
   "metadata": {},
   "source": [
    "##### Data abstraction is the process of hiding implementation details of a class from its users and providing a simplified interface for them to interact with. It is achieved in object-oriented programming through the use of access modifiers and encapsulation. Here are some ways to achieve data abstraction in Python:"
   ]
  },
  {
   "cell_type": "markdown",
   "id": "853a83eb-7d90-41c1-9415-92411e69e7e4",
   "metadata": {},
   "source": [
    "##### Data abstraction is the process of hiding implementation details of a class from its users and providing a simplified interface for them to interact with. It is achieved in object-oriented programming through the use of access modifiers and encapsulation. Here are some ways to achieve data abstraction in Python:\n",
    "\n",
    "##### Use private variables: In Python, variables that are prefixed with double underscores (e.g. __variable) are considered private and cannot be accessed from outside the class. By using private variables, we can hide implementation details and only expose the data that is necessary to the users of the class.\n",
    "\n",
    "##### Use accessor methods: Accessor methods are methods that provide read-only access to private variables. By defining accessor methods for private variables, we can control how they are accessed from outside the class and provide a simplified interface for users to interact with.\n",
    "\n",
    "##### Use mutator methods: Mutator methods are methods that provide write access to private variables. By defining mutator methods for private variables, we can control how they are modified from outside the class and provide a simplified interface for users to interact with.\n",
    "\n",
    "##### Use abstract classes and interfaces: Abstract classes and interfaces provide a high-level specification of a class or group of classes without revealing the implementation details. By defining abstract classes and interfaces, we can provide a simplified interface for users to interact with while hiding the implementation details.\n",
    "#####"
   ]
  },
  {
   "cell_type": "markdown",
   "id": "7a90fe29-0913-4e9e-b0f0-8554deb16c4f",
   "metadata": {},
   "source": [
    "### Q.5> Can we create an instance of an abstract class? Explain your answer."
   ]
  },
  {
   "cell_type": "markdown",
   "id": "27659a21-e1b3-4d46-a84b-fc8ff399d0e2",
   "metadata": {},
   "source": [
    "#### ANSWER"
   ]
  },
  {
   "cell_type": "code",
   "execution_count": null,
   "id": "f6bd77ac-c338-4c1a-8ac0-dbb5bebf91c6",
   "metadata": {},
   "outputs": [],
   "source": [
    "##### "
   ]
  }
 ],
 "metadata": {
  "kernelspec": {
   "display_name": "Python 3 (ipykernel)",
   "language": "python",
   "name": "python3"
  },
  "language_info": {
   "codemirror_mode": {
    "name": "ipython",
    "version": 3
   },
   "file_extension": ".py",
   "mimetype": "text/x-python",
   "name": "python",
   "nbconvert_exporter": "python",
   "pygments_lexer": "ipython3",
   "version": "3.10.8"
  }
 },
 "nbformat": 4,
 "nbformat_minor": 5
}
